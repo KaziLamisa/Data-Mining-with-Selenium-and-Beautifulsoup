{
 "cells": [
  {
   "cell_type": "code",
   "execution_count": 1,
   "id": "d77024a3",
   "metadata": {},
   "outputs": [
    {
     "data": {
      "text/plain": [
       "'3.9.7'"
      ]
     },
     "execution_count": 1,
     "metadata": {},
     "output_type": "execute_result"
    }
   ],
   "source": [
    "from platform import python_version\n",
    "python_version()"
   ]
  },
  {
   "cell_type": "code",
   "execution_count": 2,
   "id": "2bbf6eb5",
   "metadata": {},
   "outputs": [],
   "source": [
    "from selenium import webdriver\n",
    "from selenium.webdriver.common.keys import Keys\n",
    "from bs4 import BeautifulSoup\n",
    "import pandas as pd\n",
    "from time import sleep\n",
    "from random import randint"
   ]
  },
  {
   "cell_type": "code",
   "execution_count": 3,
   "id": "09c196d1",
   "metadata": {},
   "outputs": [],
   "source": [
    "plugin_names = []\n",
    "reviews = []\n",
    "functionalities = []\n",
    "ratings = []\n",
    "descriptions = []\n",
    "product_urls = []\n",
    "tags = []\n",
    "security = []\n",
    "support = []\n",
    "pricings = []\n",
    "instals = []\n",
    "web_url = \"https://marketplace.atlassian.com\""
   ]
  },
  {
   "cell_type": "code",
   "execution_count": 4,
   "id": "8952c523",
   "metadata": {},
   "outputs": [],
   "source": [
    "def countRatings(item):\n",
    "    rating = 0\n",
    "    full_rating = item.find_all(\"span\",class_ = \"css-1hjeuno-StarIconContainer e5bskoh4\")\n",
    "    fraction_rating = item.find_all(\"span\", class_ = \"css-mbudn6-StarIconContainer e5bskoh4\")\n",
    "    rating = len(full_rating)+len(fraction_rating)*.5\n",
    "    return rating\n",
    "\n",
    "def convert(num):\n",
    "    return str(num).replace(',','')\n",
    "\n",
    "def seperate(string):\n",
    "    lst = [\"Jira Cloud\", \"Jira Server\", \"Jira Data Center\"]\n",
    "    return ','.join(list(filter(lambda x:  x in string, lst)))"
   ]
  },
  {
   "cell_type": "code",
   "execution_count": 6,
   "id": "ad78bb3e",
   "metadata": {},
   "outputs": [
    {
     "name": "stderr",
     "output_type": "stream",
     "text": [
      "/var/folders/6w/6h6k8r3s4fl4kqz5hb4rpkj40000gn/T/ipykernel_1759/2308961190.py:2: DeprecationWarning: executable_path has been deprecated, please pass in a Service object\n",
      "  driver = webdriver.Chrome(\"/Users/lamisa/chromedriver/chromedriver\")\n"
     ]
    }
   ],
   "source": [
    "search_url= \"https://marketplace.atlassian.com/search?category=Time%20tracking&product=jira\"\n",
    "driver = webdriver.Chrome(\"/Users/lamisa/chromedriver/chromedriver\")\n",
    "driver.get(search_url)\n",
    "content = driver.page_source\n",
    "soup = BeautifulSoup(content,'html.parser')"
   ]
  },
  {
   "cell_type": "code",
   "execution_count": null,
   "id": "d8e44a2d",
   "metadata": {},
   "outputs": [],
   "source": [
    "#extract title, no. of reviews, app descrption, average ratings\n",
    "\n",
    "items = soup.find_all(\"a\", class_ = \"e13wqmfi2 css-1uhn52o-linkCss-linkCss-HitLinkStyled-HitLinkStyled e11ijshh0\", href = True)\n",
    "for item in items:\n",
    "    if item.text:\n",
    "        product_urls.append(web_url+item['href'])\n",
    "        \n",
    "    title = item.find(\"h3\", class_ = \"css-x53e1b-H3-baseHeadingsCss-baseHeadingsCss-h3Css-h3Css-NameHeader e1fhg9wy5\")\n",
    "    review = item.find(\"span\",class_ = \"css-92dv6g\")\n",
    "    description = item.find(\"div\", class_ = \"css-jdzn71-Body e13wqmfi4\")\n",
    "    ratings.append(countRatings(item))\n",
    "    \n",
    "    if title is not None:\n",
    "        plugin_names.append(title.text)\n",
    "    else:\n",
    "        plugin_names.append('None')\n",
    "        \n",
    "    if review is not None:\n",
    "        reviews.append(review.text)\n",
    "    else:\n",
    "        reviews.append('0')\n",
    "        \n",
    "    if description is not None:\n",
    "        descriptions.append(description.text)\n",
    "    else:\n",
    "        descriptions.append('None')\n",
    "    \n"
   ]
  },
  {
   "cell_type": "code",
   "execution_count": null,
   "id": "8219e2b9",
   "metadata": {},
   "outputs": [],
   "source": [
    "#get app_ids\n",
    "app_ids = []\n",
    "for url in product_urls:\n",
    "    i = url.split('/')[-2]\n",
    "    app_ids.append(i)\n",
    "print(len(app_ids))"
   ]
  },
  {
   "cell_type": "code",
   "execution_count": null,
   "id": "c7d06cd6",
   "metadata": {},
   "outputs": [],
   "source": [
    "# extract monthly flat pricing for cloud service, tags, security support, installs\n",
    "\n",
    "for url in product_urls:\n",
    "    page = url.replace(\"overview\",\"pricing\")\n",
    "    driver = webdriver.Chrome(executable_path = \"/Users/lamisa/chromedriver/chromedriver\")\n",
    "    driver.get(page)\n",
    "    sleep(randint(2,10))\n",
    "    soup = BeautifulSoup(driver.page_source, 'html.parser')\n",
    "    pricing = soup.find(\"div\", class_ = \"css-1cf5srj-AppCost-baseHeadingsCss-baseHeadingsCss eu58ut81\")\n",
    "    tag = soup.find(\"div\",class_ = \"css-8oat5o-CompatibilitiesContainer e1x0fti24\")\n",
    "    sc = soup.find(\"span\", class_= \"css-1pyq0a2-BadgeLabel-CharlieFontFamily-CharlieFontFamily e1t4w93o3\")\n",
    "    sp = soup.find(\"a\", class_ = \"css-96dsix-LinkStyled e1x0fti211\")\n",
    "    install = soup.find(\"span\", class_ = \"css-1y9uv3s-InstallCountText e5w14hq2\")\n",
    "    \n",
    "    if install is not None:\n",
    "        instals.append(install.text.split(' ')[0])\n",
    "    else:\n",
    "        instals.append('0')\n",
    "    if tag is not None:\n",
    "        tags.append(tag.text)\n",
    "    else:\n",
    "        tags.append(\"None\")\n",
    "    if sc is not None:\n",
    "        security.append(sc.text)\n",
    "    else:\n",
    "        security.append(\"None\")\n",
    "    if sp is not None:\n",
    "        support.append(sp.text)\n",
    "    else:\n",
    "        support.append(\"None\")\n",
    "    if pricing is not None:\n",
    "        pricings.append([url.split('/')[-2],pricing.text])\n",
    "    else:\n",
    "        pricings.append([url.split('/')[-2],'0'])\n"
   ]
  },
  {
   "cell_type": "code",
   "execution_count": null,
   "id": "b1f84059",
   "metadata": {},
   "outputs": [],
   "source": [
    "#extract monthly per_user pricing for cloud service\n",
    "monthly_per_user_pricing=[]\n",
    "\n",
    "for url in product_urls:\n",
    "    page = url.replace(\"overview\",\"pricing\")\n",
    "    driver = webdriver.Chrome(executable_path = \"/Users/lamisa/chromedriver/chromedriver\")\n",
    "    driver.get(page)\n",
    "    sleep(randint(2,10))\n",
    "    try:\n",
    "        driver.find_element_by_class_name(\"css-la31wz\").send_keys(Keys.BACKSPACE*2+'99')\n",
    "    except:\n",
    "        print('None')\n",
    "    #driver.find_element_by_id(\"\").click()\n",
    "    sleep(1)\n",
    "    soup = BeautifulSoup(driver.page_source, 'html.parser')\n",
    "    peru_pricing = soup.find(\"div\", class_ = \"css-1m2viiz-AppCostDescription eu58ut83\")\n",
    "    if peru_pricing is not None:\n",
    "        monthly_per_user_pricing.append(peru_pricing.text)\n",
    "    else:\n",
    "        monthly_per_user_pricing.append('0')\n",
    "    driver.close()\n",
    "\n",
    "    "
   ]
  },
  {
   "cell_type": "code",
   "execution_count": null,
   "id": "7477a13c",
   "metadata": {},
   "outputs": [],
   "source": [
    "#take monthly flat price (10 people)\n",
    "monthly_flat_price = []\n",
    "\n",
    "for pricing in pricings:\n",
    "    #print(pricing[1])\n",
    "    monthly_flat_price.append(str(pricing[1]).replace('USD',''))"
   ]
  },
  {
   "cell_type": "code",
   "execution_count": null,
   "id": "fc4b88f6",
   "metadata": {},
   "outputs": [],
   "source": [
    "#print((new_pricings))\n",
    "print(len(monthly_flat_price))"
   ]
  },
  {
   "cell_type": "code",
   "execution_count": null,
   "id": "0f860c41",
   "metadata": {},
   "outputs": [],
   "source": [
    "new_df = pd.DataFrame({'App_id':app_ids,'Name':plugin_names,'Monthly_Flat_price':monthly_flat_price,\"Monthly_per_user_price\":monthly_per_user_pricing,'Installs':instals,'Reviews':reviews,'Avg Rating':ratings, 'Service Type':tags, 'Security':security, 'Own By': support, 'Description':descriptions,'Product_urls': product_urls}) \n",
    "new_df.Installs = new_df.Installs.astype('string')\n",
    "new_df['Installs'] = new_df['Installs'].apply(lambda x: convert(x))\n",
    "new_df['Service Type'] = new_df['Service Type'].apply(lambda x: seperate(x))"
   ]
  },
  {
   "cell_type": "code",
   "execution_count": null,
   "id": "737a8e6e",
   "metadata": {},
   "outputs": [],
   "source": [
    "new_df.to_csv('products.csv', index=False, encoding='utf-8')"
   ]
  }
 ],
 "metadata": {
  "kernelspec": {
   "display_name": "Python 3 (ipykernel)",
   "language": "python",
   "name": "python3"
  },
  "language_info": {
   "codemirror_mode": {
    "name": "ipython",
    "version": 3
   },
   "file_extension": ".py",
   "mimetype": "text/x-python",
   "name": "python",
   "nbconvert_exporter": "python",
   "pygments_lexer": "ipython3",
   "version": "3.9.7"
  }
 },
 "nbformat": 4,
 "nbformat_minor": 5
}
